{
  "nbformat": 4,
  "nbformat_minor": 0,
  "metadata": {
    "colab": {
      "name": "teste_pratico_ihorana.ipynb",
      "provenance": []
    },
    "kernelspec": {
      "name": "python3",
      "display_name": "Python 3"
    },
    "language_info": {
      "name": "python"
    }
  },
  "cells": [
    {
      "cell_type": "code",
      "execution_count": null,
      "metadata": {
        "id": "P7VPo_qSXjrM"
      },
      "outputs": [],
      "source": [
        "#importanto as bibliotecas necessárias para a análise\n",
        "import pandas as pd \n",
        "import matplotlib.pyplot as plt\n",
        "import warnings\n",
        "warnings.filterwarnings('ignore')"
      ]
    },
    {
      "cell_type": "code",
      "source": [
        "#configurando para utilizar o código no colab\n",
        "from google.colab import drive\n",
        "drive.mount('/content/drive')"
      ],
      "metadata": {
        "colab": {
          "base_uri": "https://localhost:8080/"
        },
        "id": "DDVS6Zt2X3mN",
        "outputId": "c2654d76-d061-463c-865a-529d68106911"
      },
      "execution_count": null,
      "outputs": [
        {
          "output_type": "stream",
          "name": "stdout",
          "text": [
            "Drive already mounted at /content/drive; to attempt to forcibly remount, call drive.mount(\"/content/drive\", force_remount=True).\n"
          ]
        }
      ]
    },
    {
      "cell_type": "code",
      "source": [
        "#definindo o diretório de trabalho\n",
        "import os\n",
        "os.chdir('/content/drive/MyDrive/FGV')\n",
        "!pwd "
      ],
      "metadata": {
        "colab": {
          "base_uri": "https://localhost:8080/"
        },
        "id": "hBxNt_ilX5QB",
        "outputId": "8a2d8159-992c-40e2-dde9-6f25fd17bae2"
      },
      "execution_count": null,
      "outputs": [
        {
          "output_type": "stream",
          "name": "stdout",
          "text": [
            "/content/drive/MyDrive/FGV\n"
          ]
        }
      ]
    },
    {
      "cell_type": "markdown",
      "source": [
        "Antes de começar as análises dos dados, percebi que a base de dados indíce não estava estruturada corretamente. Arrumei a base e salvei os dados em uma outra base que será carregada a seguir:\n",
        "\n"
      ],
      "metadata": {
        "id": "SZclmGd9ZQZk"
      }
    },
    {
      "cell_type": "code",
      "source": [
        "#importando a base de dados editada\n",
        "indices = pd.read_excel('/content/drive/MyDrive/FGV/indices_editado.xlsx')"
      ],
      "metadata": {
        "id": "pinz2LYTX7Xk"
      },
      "execution_count": null,
      "outputs": []
    },
    {
      "cell_type": "code",
      "source": [
        "indices.head(2)"
      ],
      "metadata": {
        "colab": {
          "base_uri": "https://localhost:8080/",
          "height": 112
        },
        "id": "VpWRVbTbaNfI",
        "outputId": "66864fc9-86d0-4ec7-a480-c65854f603bc"
      },
      "execution_count": null,
      "outputs": [
        {
          "output_type": "execute_result",
          "data": {
            "text/plain": [
              "      data     ipca      igp  ipc      ipa     incc\n",
              "0  01/1995  1033.74  108.442  NaN  107.599  106.581\n",
              "1  02/1995  1044.28  109.945  NaN  108.542  110.354"
            ],
            "text/html": [
              "\n",
              "  <div id=\"df-b8e4d88b-30d4-4938-9450-9e9be0659f62\">\n",
              "    <div class=\"colab-df-container\">\n",
              "      <div>\n",
              "<style scoped>\n",
              "    .dataframe tbody tr th:only-of-type {\n",
              "        vertical-align: middle;\n",
              "    }\n",
              "\n",
              "    .dataframe tbody tr th {\n",
              "        vertical-align: top;\n",
              "    }\n",
              "\n",
              "    .dataframe thead th {\n",
              "        text-align: right;\n",
              "    }\n",
              "</style>\n",
              "<table border=\"1\" class=\"dataframe\">\n",
              "  <thead>\n",
              "    <tr style=\"text-align: right;\">\n",
              "      <th></th>\n",
              "      <th>data</th>\n",
              "      <th>ipca</th>\n",
              "      <th>igp</th>\n",
              "      <th>ipc</th>\n",
              "      <th>ipa</th>\n",
              "      <th>incc</th>\n",
              "    </tr>\n",
              "  </thead>\n",
              "  <tbody>\n",
              "    <tr>\n",
              "      <th>0</th>\n",
              "      <td>01/1995</td>\n",
              "      <td>1033.74</td>\n",
              "      <td>108.442</td>\n",
              "      <td>NaN</td>\n",
              "      <td>107.599</td>\n",
              "      <td>106.581</td>\n",
              "    </tr>\n",
              "    <tr>\n",
              "      <th>1</th>\n",
              "      <td>02/1995</td>\n",
              "      <td>1044.28</td>\n",
              "      <td>109.945</td>\n",
              "      <td>NaN</td>\n",
              "      <td>108.542</td>\n",
              "      <td>110.354</td>\n",
              "    </tr>\n",
              "  </tbody>\n",
              "</table>\n",
              "</div>\n",
              "      <button class=\"colab-df-convert\" onclick=\"convertToInteractive('df-b8e4d88b-30d4-4938-9450-9e9be0659f62')\"\n",
              "              title=\"Convert this dataframe to an interactive table.\"\n",
              "              style=\"display:none;\">\n",
              "        \n",
              "  <svg xmlns=\"http://www.w3.org/2000/svg\" height=\"24px\"viewBox=\"0 0 24 24\"\n",
              "       width=\"24px\">\n",
              "    <path d=\"M0 0h24v24H0V0z\" fill=\"none\"/>\n",
              "    <path d=\"M18.56 5.44l.94 2.06.94-2.06 2.06-.94-2.06-.94-.94-2.06-.94 2.06-2.06.94zm-11 1L8.5 8.5l.94-2.06 2.06-.94-2.06-.94L8.5 2.5l-.94 2.06-2.06.94zm10 10l.94 2.06.94-2.06 2.06-.94-2.06-.94-.94-2.06-.94 2.06-2.06.94z\"/><path d=\"M17.41 7.96l-1.37-1.37c-.4-.4-.92-.59-1.43-.59-.52 0-1.04.2-1.43.59L10.3 9.45l-7.72 7.72c-.78.78-.78 2.05 0 2.83L4 21.41c.39.39.9.59 1.41.59.51 0 1.02-.2 1.41-.59l7.78-7.78 2.81-2.81c.8-.78.8-2.07 0-2.86zM5.41 20L4 18.59l7.72-7.72 1.47 1.35L5.41 20z\"/>\n",
              "  </svg>\n",
              "      </button>\n",
              "      \n",
              "  <style>\n",
              "    .colab-df-container {\n",
              "      display:flex;\n",
              "      flex-wrap:wrap;\n",
              "      gap: 12px;\n",
              "    }\n",
              "\n",
              "    .colab-df-convert {\n",
              "      background-color: #E8F0FE;\n",
              "      border: none;\n",
              "      border-radius: 50%;\n",
              "      cursor: pointer;\n",
              "      display: none;\n",
              "      fill: #1967D2;\n",
              "      height: 32px;\n",
              "      padding: 0 0 0 0;\n",
              "      width: 32px;\n",
              "    }\n",
              "\n",
              "    .colab-df-convert:hover {\n",
              "      background-color: #E2EBFA;\n",
              "      box-shadow: 0px 1px 2px rgba(60, 64, 67, 0.3), 0px 1px 3px 1px rgba(60, 64, 67, 0.15);\n",
              "      fill: #174EA6;\n",
              "    }\n",
              "\n",
              "    [theme=dark] .colab-df-convert {\n",
              "      background-color: #3B4455;\n",
              "      fill: #D2E3FC;\n",
              "    }\n",
              "\n",
              "    [theme=dark] .colab-df-convert:hover {\n",
              "      background-color: #434B5C;\n",
              "      box-shadow: 0px 1px 3px 1px rgba(0, 0, 0, 0.15);\n",
              "      filter: drop-shadow(0px 1px 2px rgba(0, 0, 0, 0.3));\n",
              "      fill: #FFFFFF;\n",
              "    }\n",
              "  </style>\n",
              "\n",
              "      <script>\n",
              "        const buttonEl =\n",
              "          document.querySelector('#df-b8e4d88b-30d4-4938-9450-9e9be0659f62 button.colab-df-convert');\n",
              "        buttonEl.style.display =\n",
              "          google.colab.kernel.accessAllowed ? 'block' : 'none';\n",
              "\n",
              "        async function convertToInteractive(key) {\n",
              "          const element = document.querySelector('#df-b8e4d88b-30d4-4938-9450-9e9be0659f62');\n",
              "          const dataTable =\n",
              "            await google.colab.kernel.invokeFunction('convertToInteractive',\n",
              "                                                     [key], {});\n",
              "          if (!dataTable) return;\n",
              "\n",
              "          const docLinkHtml = 'Like what you see? Visit the ' +\n",
              "            '<a target=\"_blank\" href=https://colab.research.google.com/notebooks/data_table.ipynb>data table notebook</a>'\n",
              "            + ' to learn more about interactive tables.';\n",
              "          element.innerHTML = '';\n",
              "          dataTable['output_type'] = 'display_data';\n",
              "          await google.colab.output.renderOutput(dataTable, element);\n",
              "          const docLink = document.createElement('div');\n",
              "          docLink.innerHTML = docLinkHtml;\n",
              "          element.appendChild(docLink);\n",
              "        }\n",
              "      </script>\n",
              "    </div>\n",
              "  </div>\n",
              "  "
            ]
          },
          "metadata": {},
          "execution_count": 62
        }
      ]
    },
    {
      "cell_type": "code",
      "source": [
        "#criando as colunas para analisar as variações de cada índice \n",
        "indices['ipca_var'] = round((indices['ipca'].pct_change())*100,2)\n",
        "indices['igp_var'] = round((indices['igp'].pct_change())*100,2)\n",
        "indices['ipc_var'] = round((indices['ipc'].pct_change())*100,2)\n",
        "indices['ipa_var'] = round((indices['ipa'].pct_change())*100,2)\n",
        "indices['incc_var'] = round((indices['incc'].pct_change())*100,2)"
      ],
      "metadata": {
        "id": "SEYlZaXkaYrg"
      },
      "execution_count": null,
      "outputs": []
    },
    {
      "cell_type": "code",
      "source": [
        "indices.tail()"
      ],
      "metadata": {
        "colab": {
          "base_uri": "https://localhost:8080/",
          "height": 206
        },
        "id": "3TCKvRk7c2St",
        "outputId": "2c9e5de8-8f27-4e25-a9ee-739646c6ddb8"
      },
      "execution_count": null,
      "outputs": [
        {
          "output_type": "execute_result",
          "data": {
            "text/plain": [
              "          data     ipca       igp      ipc       ipa      incc  ipca_var  \\\n",
              "325 2022-02-01  6215.24  1141.546  669.332  1405.969   971.651      1.01   \n",
              "326 2022-03-01  6315.93  1161.418  675.117  1435.019   978.717      1.62   \n",
              "327 2022-04-01  6382.88  1177.809  685.432  1455.762   987.218      1.06   \n",
              "328 2022-05-01  6412.88  1183.953  687.841  1462.347  1001.923      0.47   \n",
              "329 2022-06-01  6455.85  1190.882  692.699  1466.769  1030.105      0.67   \n",
              "\n",
              "     igp_var  ipc_var  ipa_var  incc_var  \n",
              "325     1.83     0.33     2.36      0.48  \n",
              "326     1.74     0.86     2.07      0.73  \n",
              "327     1.41     1.53     1.45      0.87  \n",
              "328     0.52     0.35     0.45      1.49  \n",
              "329     0.59     0.71     0.30      2.81  "
            ],
            "text/html": [
              "\n",
              "  <div id=\"df-b27969e2-f49f-43e7-9963-0cae7811fc93\">\n",
              "    <div class=\"colab-df-container\">\n",
              "      <div>\n",
              "<style scoped>\n",
              "    .dataframe tbody tr th:only-of-type {\n",
              "        vertical-align: middle;\n",
              "    }\n",
              "\n",
              "    .dataframe tbody tr th {\n",
              "        vertical-align: top;\n",
              "    }\n",
              "\n",
              "    .dataframe thead th {\n",
              "        text-align: right;\n",
              "    }\n",
              "</style>\n",
              "<table border=\"1\" class=\"dataframe\">\n",
              "  <thead>\n",
              "    <tr style=\"text-align: right;\">\n",
              "      <th></th>\n",
              "      <th>data</th>\n",
              "      <th>ipca</th>\n",
              "      <th>igp</th>\n",
              "      <th>ipc</th>\n",
              "      <th>ipa</th>\n",
              "      <th>incc</th>\n",
              "      <th>ipca_var</th>\n",
              "      <th>igp_var</th>\n",
              "      <th>ipc_var</th>\n",
              "      <th>ipa_var</th>\n",
              "      <th>incc_var</th>\n",
              "    </tr>\n",
              "  </thead>\n",
              "  <tbody>\n",
              "    <tr>\n",
              "      <th>325</th>\n",
              "      <td>2022-02-01</td>\n",
              "      <td>6215.24</td>\n",
              "      <td>1141.546</td>\n",
              "      <td>669.332</td>\n",
              "      <td>1405.969</td>\n",
              "      <td>971.651</td>\n",
              "      <td>1.01</td>\n",
              "      <td>1.83</td>\n",
              "      <td>0.33</td>\n",
              "      <td>2.36</td>\n",
              "      <td>0.48</td>\n",
              "    </tr>\n",
              "    <tr>\n",
              "      <th>326</th>\n",
              "      <td>2022-03-01</td>\n",
              "      <td>6315.93</td>\n",
              "      <td>1161.418</td>\n",
              "      <td>675.117</td>\n",
              "      <td>1435.019</td>\n",
              "      <td>978.717</td>\n",
              "      <td>1.62</td>\n",
              "      <td>1.74</td>\n",
              "      <td>0.86</td>\n",
              "      <td>2.07</td>\n",
              "      <td>0.73</td>\n",
              "    </tr>\n",
              "    <tr>\n",
              "      <th>327</th>\n",
              "      <td>2022-04-01</td>\n",
              "      <td>6382.88</td>\n",
              "      <td>1177.809</td>\n",
              "      <td>685.432</td>\n",
              "      <td>1455.762</td>\n",
              "      <td>987.218</td>\n",
              "      <td>1.06</td>\n",
              "      <td>1.41</td>\n",
              "      <td>1.53</td>\n",
              "      <td>1.45</td>\n",
              "      <td>0.87</td>\n",
              "    </tr>\n",
              "    <tr>\n",
              "      <th>328</th>\n",
              "      <td>2022-05-01</td>\n",
              "      <td>6412.88</td>\n",
              "      <td>1183.953</td>\n",
              "      <td>687.841</td>\n",
              "      <td>1462.347</td>\n",
              "      <td>1001.923</td>\n",
              "      <td>0.47</td>\n",
              "      <td>0.52</td>\n",
              "      <td>0.35</td>\n",
              "      <td>0.45</td>\n",
              "      <td>1.49</td>\n",
              "    </tr>\n",
              "    <tr>\n",
              "      <th>329</th>\n",
              "      <td>2022-06-01</td>\n",
              "      <td>6455.85</td>\n",
              "      <td>1190.882</td>\n",
              "      <td>692.699</td>\n",
              "      <td>1466.769</td>\n",
              "      <td>1030.105</td>\n",
              "      <td>0.67</td>\n",
              "      <td>0.59</td>\n",
              "      <td>0.71</td>\n",
              "      <td>0.30</td>\n",
              "      <td>2.81</td>\n",
              "    </tr>\n",
              "  </tbody>\n",
              "</table>\n",
              "</div>\n",
              "      <button class=\"colab-df-convert\" onclick=\"convertToInteractive('df-b27969e2-f49f-43e7-9963-0cae7811fc93')\"\n",
              "              title=\"Convert this dataframe to an interactive table.\"\n",
              "              style=\"display:none;\">\n",
              "        \n",
              "  <svg xmlns=\"http://www.w3.org/2000/svg\" height=\"24px\"viewBox=\"0 0 24 24\"\n",
              "       width=\"24px\">\n",
              "    <path d=\"M0 0h24v24H0V0z\" fill=\"none\"/>\n",
              "    <path d=\"M18.56 5.44l.94 2.06.94-2.06 2.06-.94-2.06-.94-.94-2.06-.94 2.06-2.06.94zm-11 1L8.5 8.5l.94-2.06 2.06-.94-2.06-.94L8.5 2.5l-.94 2.06-2.06.94zm10 10l.94 2.06.94-2.06 2.06-.94-2.06-.94-.94-2.06-.94 2.06-2.06.94z\"/><path d=\"M17.41 7.96l-1.37-1.37c-.4-.4-.92-.59-1.43-.59-.52 0-1.04.2-1.43.59L10.3 9.45l-7.72 7.72c-.78.78-.78 2.05 0 2.83L4 21.41c.39.39.9.59 1.41.59.51 0 1.02-.2 1.41-.59l7.78-7.78 2.81-2.81c.8-.78.8-2.07 0-2.86zM5.41 20L4 18.59l7.72-7.72 1.47 1.35L5.41 20z\"/>\n",
              "  </svg>\n",
              "      </button>\n",
              "      \n",
              "  <style>\n",
              "    .colab-df-container {\n",
              "      display:flex;\n",
              "      flex-wrap:wrap;\n",
              "      gap: 12px;\n",
              "    }\n",
              "\n",
              "    .colab-df-convert {\n",
              "      background-color: #E8F0FE;\n",
              "      border: none;\n",
              "      border-radius: 50%;\n",
              "      cursor: pointer;\n",
              "      display: none;\n",
              "      fill: #1967D2;\n",
              "      height: 32px;\n",
              "      padding: 0 0 0 0;\n",
              "      width: 32px;\n",
              "    }\n",
              "\n",
              "    .colab-df-convert:hover {\n",
              "      background-color: #E2EBFA;\n",
              "      box-shadow: 0px 1px 2px rgba(60, 64, 67, 0.3), 0px 1px 3px 1px rgba(60, 64, 67, 0.15);\n",
              "      fill: #174EA6;\n",
              "    }\n",
              "\n",
              "    [theme=dark] .colab-df-convert {\n",
              "      background-color: #3B4455;\n",
              "      fill: #D2E3FC;\n",
              "    }\n",
              "\n",
              "    [theme=dark] .colab-df-convert:hover {\n",
              "      background-color: #434B5C;\n",
              "      box-shadow: 0px 1px 3px 1px rgba(0, 0, 0, 0.15);\n",
              "      filter: drop-shadow(0px 1px 2px rgba(0, 0, 0, 0.3));\n",
              "      fill: #FFFFFF;\n",
              "    }\n",
              "  </style>\n",
              "\n",
              "      <script>\n",
              "        const buttonEl =\n",
              "          document.querySelector('#df-b27969e2-f49f-43e7-9963-0cae7811fc93 button.colab-df-convert');\n",
              "        buttonEl.style.display =\n",
              "          google.colab.kernel.accessAllowed ? 'block' : 'none';\n",
              "\n",
              "        async function convertToInteractive(key) {\n",
              "          const element = document.querySelector('#df-b27969e2-f49f-43e7-9963-0cae7811fc93');\n",
              "          const dataTable =\n",
              "            await google.colab.kernel.invokeFunction('convertToInteractive',\n",
              "                                                     [key], {});\n",
              "          if (!dataTable) return;\n",
              "\n",
              "          const docLinkHtml = 'Like what you see? Visit the ' +\n",
              "            '<a target=\"_blank\" href=https://colab.research.google.com/notebooks/data_table.ipynb>data table notebook</a>'\n",
              "            + ' to learn more about interactive tables.';\n",
              "          element.innerHTML = '';\n",
              "          dataTable['output_type'] = 'display_data';\n",
              "          await google.colab.output.renderOutput(dataTable, element);\n",
              "          const docLink = document.createElement('div');\n",
              "          docLink.innerHTML = docLinkHtml;\n",
              "          element.appendChild(docLink);\n",
              "        }\n",
              "      </script>\n",
              "    </div>\n",
              "  </div>\n",
              "  "
            ]
          },
          "metadata": {},
          "execution_count": 70
        }
      ]
    },
    {
      "cell_type": "code",
      "source": [
        "#verificando se existem dados duplicados na base \n",
        "duplicados = indices.duplicated()\n",
        "duplicados.sum()"
      ],
      "metadata": {
        "colab": {
          "base_uri": "https://localhost:8080/"
        },
        "id": "C9MFxAlTAnY-",
        "outputId": "4283dbbd-32d6-4e03-b474-7e0398989f28"
      },
      "execution_count": null,
      "outputs": [
        {
          "output_type": "execute_result",
          "data": {
            "text/plain": [
              "0"
            ]
          },
          "metadata": {},
          "execution_count": 65
        }
      ]
    },
    {
      "cell_type": "code",
      "source": [
        "indices.info()"
      ],
      "metadata": {
        "colab": {
          "base_uri": "https://localhost:8080/"
        },
        "id": "2R9xXqtz-pv0",
        "outputId": "912070e7-3978-4fdf-af67-9e9675c7250a"
      },
      "execution_count": null,
      "outputs": [
        {
          "output_type": "stream",
          "name": "stdout",
          "text": [
            "<class 'pandas.core.frame.DataFrame'>\n",
            "RangeIndex: 330 entries, 0 to 329\n",
            "Data columns (total 11 columns):\n",
            " #   Column    Non-Null Count  Dtype  \n",
            "---  ------    --------------  -----  \n",
            " 0   data      330 non-null    object \n",
            " 1   ipca      330 non-null    float64\n",
            " 2   igp       330 non-null    float64\n",
            " 3   ipc       314 non-null    float64\n",
            " 4   ipa       330 non-null    float64\n",
            " 5   incc      330 non-null    float64\n",
            " 6   ipca_var  329 non-null    float64\n",
            " 7   igp_var   329 non-null    float64\n",
            " 8   ipc_var   313 non-null    float64\n",
            " 9   ipa_var   329 non-null    float64\n",
            " 10  incc_var  329 non-null    float64\n",
            "dtypes: float64(10), object(1)\n",
            "memory usage: 28.5+ KB\n"
          ]
        }
      ]
    },
    {
      "cell_type": "code",
      "source": [
        "#Mudando a data para o formato de data\n",
        "indices['data'] = pd.to_datetime(indices['data'], format= '%m/%Y') "
      ],
      "metadata": {
        "id": "x5w7b0B9_G3H"
      },
      "execution_count": null,
      "outputs": []
    },
    {
      "cell_type": "code",
      "source": [
        "#Como existem dados faltantes de ipc, iremos considerar um período temporal de 05/1996 até 06/2022.\n",
        "indices_final = indices[indices['data'] > '1996-05-01']"
      ],
      "metadata": {
        "id": "nd0C67cmDtM7"
      },
      "execution_count": null,
      "outputs": []
    },
    {
      "cell_type": "code",
      "source": [
        "indices_final.info()"
      ],
      "metadata": {
        "colab": {
          "base_uri": "https://localhost:8080/"
        },
        "id": "Zvups8K2E16c",
        "outputId": "f5a77748-2b25-4af6-a701-7dc2c8d01719"
      },
      "execution_count": null,
      "outputs": [
        {
          "output_type": "stream",
          "name": "stdout",
          "text": [
            "<class 'pandas.core.frame.DataFrame'>\n",
            "Int64Index: 313 entries, 17 to 329\n",
            "Data columns (total 11 columns):\n",
            " #   Column    Non-Null Count  Dtype         \n",
            "---  ------    --------------  -----         \n",
            " 0   data      313 non-null    datetime64[ns]\n",
            " 1   ipca      313 non-null    float64       \n",
            " 2   igp       313 non-null    float64       \n",
            " 3   ipc       313 non-null    float64       \n",
            " 4   ipa       313 non-null    float64       \n",
            " 5   incc      313 non-null    float64       \n",
            " 6   ipca_var  313 non-null    float64       \n",
            " 7   igp_var   313 non-null    float64       \n",
            " 8   ipc_var   313 non-null    float64       \n",
            " 9   ipa_var   313 non-null    float64       \n",
            " 10  incc_var  313 non-null    float64       \n",
            "dtypes: datetime64[ns](1), float64(10)\n",
            "memory usage: 29.3 KB\n"
          ]
        }
      ]
    },
    {
      "cell_type": "code",
      "source": [
        "indices_final.head()"
      ],
      "metadata": {
        "colab": {
          "base_uri": "https://localhost:8080/",
          "height": 206
        },
        "id": "rg58cfoqFAF5",
        "outputId": "a8676b0b-d328-48d1-d0c4-b567e93e1535"
      },
      "execution_count": null,
      "outputs": [
        {
          "output_type": "execute_result",
          "data": {
            "text/plain": [
              "         data     ipca      igp      ipc      ipa     incc  ipca_var  igp_var  \\\n",
              "17 1996-06-01  1325.84  131.445  150.517  119.318  146.988      1.19     1.02   \n",
              "18 1996-07-01  1340.56  133.213  151.868  121.217  149.224      1.11     1.35   \n",
              "19 1996-08-01  1346.46  133.587  152.204  121.488  150.334      0.44     0.28   \n",
              "20 1996-09-01  1348.48  133.722  151.729  121.911  150.564      0.15     0.10   \n",
              "21 1996-10-01  1352.53  133.978  151.567  122.361  150.915      0.30     0.19   \n",
              "\n",
              "    ipc_var  ipa_var  incc_var  \n",
              "17     1.67     0.41      2.01  \n",
              "18     0.90     1.59      1.52  \n",
              "19     0.22     0.22      0.74  \n",
              "20    -0.31     0.35      0.15  \n",
              "21    -0.11     0.37      0.23  "
            ],
            "text/html": [
              "\n",
              "  <div id=\"df-0894290a-ebaf-4c64-a4a1-e5091ee250a8\">\n",
              "    <div class=\"colab-df-container\">\n",
              "      <div>\n",
              "<style scoped>\n",
              "    .dataframe tbody tr th:only-of-type {\n",
              "        vertical-align: middle;\n",
              "    }\n",
              "\n",
              "    .dataframe tbody tr th {\n",
              "        vertical-align: top;\n",
              "    }\n",
              "\n",
              "    .dataframe thead th {\n",
              "        text-align: right;\n",
              "    }\n",
              "</style>\n",
              "<table border=\"1\" class=\"dataframe\">\n",
              "  <thead>\n",
              "    <tr style=\"text-align: right;\">\n",
              "      <th></th>\n",
              "      <th>data</th>\n",
              "      <th>ipca</th>\n",
              "      <th>igp</th>\n",
              "      <th>ipc</th>\n",
              "      <th>ipa</th>\n",
              "      <th>incc</th>\n",
              "      <th>ipca_var</th>\n",
              "      <th>igp_var</th>\n",
              "      <th>ipc_var</th>\n",
              "      <th>ipa_var</th>\n",
              "      <th>incc_var</th>\n",
              "    </tr>\n",
              "  </thead>\n",
              "  <tbody>\n",
              "    <tr>\n",
              "      <th>17</th>\n",
              "      <td>1996-06-01</td>\n",
              "      <td>1325.84</td>\n",
              "      <td>131.445</td>\n",
              "      <td>150.517</td>\n",
              "      <td>119.318</td>\n",
              "      <td>146.988</td>\n",
              "      <td>1.19</td>\n",
              "      <td>1.02</td>\n",
              "      <td>1.67</td>\n",
              "      <td>0.41</td>\n",
              "      <td>2.01</td>\n",
              "    </tr>\n",
              "    <tr>\n",
              "      <th>18</th>\n",
              "      <td>1996-07-01</td>\n",
              "      <td>1340.56</td>\n",
              "      <td>133.213</td>\n",
              "      <td>151.868</td>\n",
              "      <td>121.217</td>\n",
              "      <td>149.224</td>\n",
              "      <td>1.11</td>\n",
              "      <td>1.35</td>\n",
              "      <td>0.90</td>\n",
              "      <td>1.59</td>\n",
              "      <td>1.52</td>\n",
              "    </tr>\n",
              "    <tr>\n",
              "      <th>19</th>\n",
              "      <td>1996-08-01</td>\n",
              "      <td>1346.46</td>\n",
              "      <td>133.587</td>\n",
              "      <td>152.204</td>\n",
              "      <td>121.488</td>\n",
              "      <td>150.334</td>\n",
              "      <td>0.44</td>\n",
              "      <td>0.28</td>\n",
              "      <td>0.22</td>\n",
              "      <td>0.22</td>\n",
              "      <td>0.74</td>\n",
              "    </tr>\n",
              "    <tr>\n",
              "      <th>20</th>\n",
              "      <td>1996-09-01</td>\n",
              "      <td>1348.48</td>\n",
              "      <td>133.722</td>\n",
              "      <td>151.729</td>\n",
              "      <td>121.911</td>\n",
              "      <td>150.564</td>\n",
              "      <td>0.15</td>\n",
              "      <td>0.10</td>\n",
              "      <td>-0.31</td>\n",
              "      <td>0.35</td>\n",
              "      <td>0.15</td>\n",
              "    </tr>\n",
              "    <tr>\n",
              "      <th>21</th>\n",
              "      <td>1996-10-01</td>\n",
              "      <td>1352.53</td>\n",
              "      <td>133.978</td>\n",
              "      <td>151.567</td>\n",
              "      <td>122.361</td>\n",
              "      <td>150.915</td>\n",
              "      <td>0.30</td>\n",
              "      <td>0.19</td>\n",
              "      <td>-0.11</td>\n",
              "      <td>0.37</td>\n",
              "      <td>0.23</td>\n",
              "    </tr>\n",
              "  </tbody>\n",
              "</table>\n",
              "</div>\n",
              "      <button class=\"colab-df-convert\" onclick=\"convertToInteractive('df-0894290a-ebaf-4c64-a4a1-e5091ee250a8')\"\n",
              "              title=\"Convert this dataframe to an interactive table.\"\n",
              "              style=\"display:none;\">\n",
              "        \n",
              "  <svg xmlns=\"http://www.w3.org/2000/svg\" height=\"24px\"viewBox=\"0 0 24 24\"\n",
              "       width=\"24px\">\n",
              "    <path d=\"M0 0h24v24H0V0z\" fill=\"none\"/>\n",
              "    <path d=\"M18.56 5.44l.94 2.06.94-2.06 2.06-.94-2.06-.94-.94-2.06-.94 2.06-2.06.94zm-11 1L8.5 8.5l.94-2.06 2.06-.94-2.06-.94L8.5 2.5l-.94 2.06-2.06.94zm10 10l.94 2.06.94-2.06 2.06-.94-2.06-.94-.94-2.06-.94 2.06-2.06.94z\"/><path d=\"M17.41 7.96l-1.37-1.37c-.4-.4-.92-.59-1.43-.59-.52 0-1.04.2-1.43.59L10.3 9.45l-7.72 7.72c-.78.78-.78 2.05 0 2.83L4 21.41c.39.39.9.59 1.41.59.51 0 1.02-.2 1.41-.59l7.78-7.78 2.81-2.81c.8-.78.8-2.07 0-2.86zM5.41 20L4 18.59l7.72-7.72 1.47 1.35L5.41 20z\"/>\n",
              "  </svg>\n",
              "      </button>\n",
              "      \n",
              "  <style>\n",
              "    .colab-df-container {\n",
              "      display:flex;\n",
              "      flex-wrap:wrap;\n",
              "      gap: 12px;\n",
              "    }\n",
              "\n",
              "    .colab-df-convert {\n",
              "      background-color: #E8F0FE;\n",
              "      border: none;\n",
              "      border-radius: 50%;\n",
              "      cursor: pointer;\n",
              "      display: none;\n",
              "      fill: #1967D2;\n",
              "      height: 32px;\n",
              "      padding: 0 0 0 0;\n",
              "      width: 32px;\n",
              "    }\n",
              "\n",
              "    .colab-df-convert:hover {\n",
              "      background-color: #E2EBFA;\n",
              "      box-shadow: 0px 1px 2px rgba(60, 64, 67, 0.3), 0px 1px 3px 1px rgba(60, 64, 67, 0.15);\n",
              "      fill: #174EA6;\n",
              "    }\n",
              "\n",
              "    [theme=dark] .colab-df-convert {\n",
              "      background-color: #3B4455;\n",
              "      fill: #D2E3FC;\n",
              "    }\n",
              "\n",
              "    [theme=dark] .colab-df-convert:hover {\n",
              "      background-color: #434B5C;\n",
              "      box-shadow: 0px 1px 3px 1px rgba(0, 0, 0, 0.15);\n",
              "      filter: drop-shadow(0px 1px 2px rgba(0, 0, 0, 0.3));\n",
              "      fill: #FFFFFF;\n",
              "    }\n",
              "  </style>\n",
              "\n",
              "      <script>\n",
              "        const buttonEl =\n",
              "          document.querySelector('#df-0894290a-ebaf-4c64-a4a1-e5091ee250a8 button.colab-df-convert');\n",
              "        buttonEl.style.display =\n",
              "          google.colab.kernel.accessAllowed ? 'block' : 'none';\n",
              "\n",
              "        async function convertToInteractive(key) {\n",
              "          const element = document.querySelector('#df-0894290a-ebaf-4c64-a4a1-e5091ee250a8');\n",
              "          const dataTable =\n",
              "            await google.colab.kernel.invokeFunction('convertToInteractive',\n",
              "                                                     [key], {});\n",
              "          if (!dataTable) return;\n",
              "\n",
              "          const docLinkHtml = 'Like what you see? Visit the ' +\n",
              "            '<a target=\"_blank\" href=https://colab.research.google.com/notebooks/data_table.ipynb>data table notebook</a>'\n",
              "            + ' to learn more about interactive tables.';\n",
              "          element.innerHTML = '';\n",
              "          dataTable['output_type'] = 'display_data';\n",
              "          await google.colab.output.renderOutput(dataTable, element);\n",
              "          const docLink = document.createElement('div');\n",
              "          docLink.innerHTML = docLinkHtml;\n",
              "          element.appendChild(docLink);\n",
              "        }\n",
              "      </script>\n",
              "    </div>\n",
              "  </div>\n",
              "  "
            ]
          },
          "metadata": {},
          "execution_count": 73
        }
      ]
    },
    {
      "cell_type": "code",
      "source": [
        "#salvando os dados no excel para realizar a modelagem no R\n",
        "indices_final.to_excel('indices_final.xlsx', index = False)"
      ],
      "metadata": {
        "id": "uzFaA4OXC3j8"
      },
      "execution_count": null,
      "outputs": []
    }
  ]
}